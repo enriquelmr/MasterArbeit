{
 "cells": [
  {
   "cell_type": "code",
   "execution_count": 1,
   "metadata": {
    "id": "1_Vdi80i-ghG"
   },
   "outputs": [],
   "source": [
    "import torch\n",
    "import numpy as np\n",
    "import matplotlib.pyplot as plt\n",
    "import PIL\n",
    "import torchvision\n",
    "import torch.nn as nn\n",
    "import torchvision.transforms as transforms\n",
    "import math\n",
    "from PIL import Image\n",
    "\n",
    "from torch.utils.data import DataLoader, Dataset\n",
    "import os\n",
    "import torch.multiprocessing as mp\n",
    "#from custom_dataset import CustomTriangleDataset\n"
   ]
  },
  {
   "cell_type": "code",
   "execution_count": 2,
   "metadata": {
    "id": "392TMmVW-hyZ"
   },
   "outputs": [],
   "source": [
    "device=torch.device(\"mps\") \n",
    "# GPU use cuda \n",
    "# Mac silicon use mps\n",
    "# CPU uses cpu \n",
    "\n",
    "def my_transform(t):\n",
    "    return (t * 2) - 1\n",
    "def my_transform1(t):\n",
    "    return (t + 1) / 2\n",
    "def my_transform2(t):\n",
    "    return t.permute(1, 2, 0)\n",
    "def my_transform3(t):\n",
    "    return t * 255.0\n",
    "def my_transform4(t):\n",
    "    return t.cpu().numpy().astype(np.uint8)\n"
   ]
  },
  {
   "cell_type": "code",
   "execution_count": 3,
   "metadata": {},
   "outputs": [],
   "source": [
    "#we define the spacing as diffeent forms\n",
    "#sin\n",
    "def sinusoidal_linspace(start_point, end_point, num_points):\n",
    "    t = torch.linspace(0, 1, num_points)\n",
    "    return start_point + (end_point - start_point) * (1 - torch.cos(t * torch.pi)) / 2\n",
    "#x^y\n",
    "def power_linspace(start_point, end_point, num_points, exponent):\n",
    "    t = torch.linspace(0, 1, num_points)\n",
    "    return start_point + (end_point - start_point) * t**(exponent+1)\n",
    "#MULTIPY BY SQRT(EXPONENT)"
   ]
  },
  {
   "cell_type": "code",
   "execution_count": 4,
   "metadata": {
    "id": "jBVF3WQ4-oeX"
   },
   "outputs": [],
   "source": [
    "#these lines are to convert the imnage to the torch format\n",
    "IMG_SHAPE=(32,32) #size of the image in pixels\n",
    "transform = transforms.Compose ([ #image---> torch format\n",
    "    #transforms.Resize(IMG_SHAPE),\n",
    "    transforms.ToTensor(), #transfor into atensor 0,1\n",
    "    transforms.Lambda(my_transform)# convert from [0,1] --> [-1,1]\n",
    "])\n",
    "reverse_transform= transforms.Compose ([ #torch format---> image\n",
    "    transforms.Lambda(my_transform1),#\n",
    "    transforms.Lambda(my_transform2),\n",
    "    transforms.Lambda(my_transform3),\n",
    "    transforms.Lambda(my_transform4),\n",
    "    transforms.ToPILImage(),\n",
    "\n",
    "])"
   ]
  },
  {
   "cell_type": "code",
   "execution_count": 5,
   "metadata": {
    "id": "KtpDLc4LBeoP"
   },
   "outputs": [],
   "source": [
    "class DiffusionModel:\n",
    "    def __init__(self, start_bet=0.0001, end_bet=0.02, timesteps=300):\n",
    "        self.start_bet = start_bet\n",
    "        self.end_bet = end_bet\n",
    "        self.timesteps = timesteps\n",
    "        #here we will define the betas and alphas\n",
    "\n",
    "        self.betas = torch.linspace(start_bet, end_bet, timesteps)\n",
    "        #power_linspace(start_bet, end_bet, timesteps,10.0) \n",
    "        #sinusoidal_linspace(start_bet, end_bet, timesteps) \n",
    "        #torch.linspace(start_bet, end_bet, timesteps)\n",
    "        self.alphas = 1 - self.betas\n",
    "        self.alphas_hat = torch.cumprod(self.alphas, axis = 0)\n",
    "\n",
    "\n",
    "    def Forward_Diffusion(self,x_0,t, device):\n",
    "        noise = torch.randn_like(x_0) #here sample as N(0,1)normal distribution\n",
    "        sqrt_alphas_hat_t = self.get_index_from_list(self.alphas_hat.sqrt(),t,x_0.shape)\n",
    "        sqrt_one_minus_alphas_hat_t = self.get_index_from_list(torch.sqrt(1.-self.alphas_hat),t,x_0.shape)\n",
    "\n",
    "        mean = sqrt_alphas_hat_t.to(device)*x_0.to(device)\n",
    "        variance = sqrt_one_minus_alphas_hat_t.to(device)*noise.to(device)\n",
    "    \n",
    "        return mean + variance, noise.to(device)\n",
    "\n",
    "    @torch.no_grad()\n",
    "    def backward(self, x, t, model, **kwargs):\n",
    "        \"\"\"\n",
    "        Calls the model to predict the noise in the image and returns\n",
    "        the denoised image.\n",
    "        Applies noise to this image, if we are not in the last step yet.\n",
    "        \"\"\"\n",
    "        betas_t = self.get_index_from_list(self.betas, t, x.shape)\n",
    "        sqrt_one_minus_alphas_hat_t = self.get_index_from_list(torch.sqrt(1. - self.alphas_hat), t, x.shape)\n",
    "        sqrt_recip_alphas_t = self.get_index_from_list(torch.sqrt(1.0 / self.alphas), t, x.shape)\n",
    "        mean = sqrt_recip_alphas_t * (x - betas_t * model(x, t, **kwargs) / sqrt_one_minus_alphas_hat_t)\n",
    "        posterior_variance_t = betas_t\n",
    "\n",
    "        if t == 0:\n",
    "            return mean\n",
    "        else:\n",
    "            noise = torch.randn_like(x)\n",
    "            variance = torch.sqrt(posterior_variance_t) * noise\n",
    "            return mean + variance\n",
    "\n",
    "    @staticmethod\n",
    "    def get_index_from_list(values, t, x_shape):\n",
    "        batch_size = t.shape[0]\n",
    "        result = values.gather(-1,t.cpu())\n",
    "        return result.reshape(batch_size, *((1,) *(len(x_shape)-1))).to(t.device)\n",
    "\n"
   ]
  },
  {
   "cell_type": "code",
   "execution_count": 6,
   "metadata": {
    "id": "vfrbQm4xFI7S"
   },
   "outputs": [],
   "source": [
    "class SinusoidalPositionEmbeddings(nn.Module):\n",
    "    def __init__(self, dim):\n",
    "        super().__init__()\n",
    "        self.dim = dim\n",
    "\n",
    "    def forward(self, time):\n",
    "        device = time.device\n",
    "        half_dim = self.dim // 2\n",
    "        embeddings = math.log(10000) / (half_dim - 1)\n",
    "        embeddings = torch.exp(torch.arange(half_dim, device=device) * -embeddings)\n",
    "        embeddings = time[:, None] * embeddings[None, :]\n",
    "        embeddings = torch.cat((embeddings.sin(), embeddings.cos()), dim=-1)\n",
    "        return embeddings\n",
    "class Block(nn.Module):\n",
    "    def __init__(self, channels_in, channels_out, time_embedding_dims, labels, num_filters = 3, downsample=True):\n",
    "        super().__init__()\n",
    "\n",
    "        self.time_embedding_dims = time_embedding_dims\n",
    "        self.time_embedding = SinusoidalPositionEmbeddings(time_embedding_dims)\n",
    "        self.labels = labels\n",
    "        if labels:\n",
    "            self.label_mlp = nn.Linear(1, channels_out)\n",
    "\n",
    "        self.downsample = downsample\n",
    "\n",
    "        if downsample:\n",
    "            self.conv1 = nn.Conv2d(channels_in, channels_out, num_filters, padding=1)\n",
    "            self.final = nn.Conv2d(channels_out, channels_out, 4, 2, 1)\n",
    "        else:\n",
    "            self.conv1 = nn.Conv2d(2 * channels_in, channels_out, num_filters, padding=1)\n",
    "            self.final = nn.ConvTranspose2d(channels_out, channels_out, 4, 2, 1)\n",
    "\n",
    "        self.bnorm1 = nn.BatchNorm2d(channels_out)\n",
    "        self.bnorm2 = nn.BatchNorm2d(channels_out)\n",
    "\n",
    "        self.conv2 = nn.Conv2d(channels_out, channels_out, 3, padding=1)\n",
    "        self.time_mlp = nn.Linear(time_embedding_dims, channels_out)\n",
    "        self.relu = nn.ReLU()\n",
    "\n",
    "    def forward(self, x, t, **kwargs):\n",
    "        o = self.bnorm1(self.relu(self.conv1(x)))\n",
    "        o_time = self.relu(self.time_mlp(self.time_embedding(t)))\n",
    "        o = o + o_time[(..., ) + (None, ) * 2]\n",
    "        if self.labels:\n",
    "            label = kwargs.get('labels')\n",
    "            o_label = self.relu(self.label_mlp(label))\n",
    "            o = o + o_label[(..., ) + (None, ) * 2]\n",
    "\n",
    "        o = self.bnorm2(self.relu(self.conv2(o)))\n",
    "\n",
    "        return self.final(o)\n",
    "\n",
    "class UNet(nn.Module):\n",
    "    def __init__(self, img_channels = 1, time_embedding_dims = 128, labels = False, sequence_channels = (64, 128, 256, 512, 1024)):\n",
    "        super().__init__()\n",
    "        self.time_embedding_dims = time_embedding_dims\n",
    "        sequence_channels_rev = reversed(sequence_channels)\n",
    "\n",
    "        self.downsampling = nn.ModuleList([Block(channels_in, channels_out, time_embedding_dims, labels) for channels_in, channels_out in zip(sequence_channels, sequence_channels[1:])])\n",
    "        self.upsampling = nn.ModuleList([Block(channels_in, channels_out, time_embedding_dims, labels,downsample=False) for channels_in, channels_out in zip(sequence_channels[::-1], sequence_channels[::-1][1:])])\n",
    "        self.conv1 = nn.Conv2d(img_channels, sequence_channels[0], 3, padding=1)\n",
    "        self.conv2 = nn.Conv2d(sequence_channels[0], img_channels, 1)\n",
    "\n",
    "\n",
    "    def forward(self, x, t, **kwargs):\n",
    "        residuals = []\n",
    "        o = self.conv1(x)\n",
    "        for ds in self.downsampling:\n",
    "            o = ds(o, t, **kwargs)\n",
    "            residuals.append(o)\n",
    "        for us, res in zip(self.upsampling, reversed(residuals)):\n",
    "            o = us(torch.cat((o, res), dim=1), t, **kwargs)\n",
    "\n",
    "        return self.conv2(o)"
   ]
  },
  {
   "cell_type": "code",
   "execution_count": 7,
   "metadata": {
    "id": "vfrbQm4xFI7S"
   },
   "outputs": [],
   "source": [
    "class CustomTriangleDataset(Dataset):\n",
    "    def __init__(self, root_dir, start_index, end_index, transform):\n",
    "        self.root_dir = root_dir\n",
    "        self.start_index = start_index\n",
    "        self.end_index = end_index\n",
    "        self.transform = transform\n",
    "\n",
    "        self.file_list = sorted(os.listdir(self.root_dir))\n",
    "\n",
    "    def __len__(self):\n",
    "        return self.end_index - self.start_index\n",
    "\n",
    "    def __getitem__(self, idx):\n",
    "        img_name = os.path.join(self.root_dir, self.file_list[idx + self.start_index])\n",
    "        image = np.load(img_name)#= np.load(\"triagle_\"+str(i)+\".npy\")\n",
    "        #image = image.convert(\"L\") #convert the image in B/W grey scale\n",
    "        if self.transform:\n",
    "            image = self.transform(image)\n",
    "\n",
    "        return image"
   ]
  },
  {
   "cell_type": "code",
   "execution_count": 8,
   "metadata": {
    "id": "5oCfTsmBHmCU"
   },
   "outputs": [],
   "source": [
    "# Define the path to your triangle samples folder\n",
    "triangle_samples_path = \"/Users/luismartinezrojas/Documents/denoising/array_100_triangle\"\n",
    "verify_sample_pat = \"/Users/luismartinezrojas/Documents/denoising/array_100_test_triangle\"\n",
    "\n",
    "# Define your batch size\n",
    "BATCH_SIZE = 20\n",
    "BATCH_SIZE_verify = 20\n",
    "\n",
    "# Set the start and end indices for your desired range (triangle_1.jpeg to triangle_200.jpeg)\n",
    "start_index =0\n",
    "end_index =  9999 #9999\n",
    "end_index_verify =  49\n",
    "\n",
    "# Create the custom triangle dataset\n",
    "trainset = CustomTriangleDataset(root_dir=triangle_samples_path,\n",
    "                                 start_index=start_index,\n",
    "                                 end_index=end_index,\n",
    "                                 transform=transform)\n",
    "\n",
    "#create the cutom triangle \n",
    "verifyset=CustomTriangleDataset(root_dir=verify_sample_pat,\n",
    "                                 start_index=start_index,\n",
    "                                 end_index=end_index_verify,\n",
    "                                 transform=transform)\n"
   ]
  },
  {
   "cell_type": "code",
   "execution_count": 9,
   "metadata": {
    "id": "B5gAh4zAIdwg"
   },
   "outputs": [],
   "source": [
    "# Create the data loader\n",
    "trainloader = DataLoader(trainset,\n",
    "                         batch_size=BATCH_SIZE,\n",
    "                         shuffle=True,\n",
    "                         num_workers=0,\n",
    "                         drop_last=True)\n",
    "verifyloader = DataLoader(verifyset,\n",
    "                         batch_size=BATCH_SIZE_verify,\n",
    "                         shuffle=True,\n",
    "                         num_workers=0,\n",
    "                         drop_last=True)"
   ]
  },
  {
   "cell_type": "code",
   "execution_count": 10,
   "metadata": {
    "id": "7BO468_vR6gn"
   },
   "outputs": [],
   "source": [
    "diffusion_model=DiffusionModel()\n",
    "\n",
    "NO_EPOCHS = 100\n",
    "PRINT_FREQUENCY = 9\n",
    "LR = 0.001\n",
    "VERBOSE = False\n",
    "\n",
    "unet = UNet(labels=False).to(device)\n",
    "\n",
    "optimizer = torch.optim.Adam(unet.parameters(), lr=LR)"
   ]
  },
  {
   "cell_type": "code",
   "execution_count": 11,
   "metadata": {},
   "outputs": [],
   "source": [
    "loss_array_min=[]\n",
    "loss_array_max=[]\n",
    "loss_array_mean=[]\n",
    "\n",
    "loss_val_array_min=[]\n",
    "loss_val_array_max=[]\n",
    "loss_val_array_mean=[]"
   ]
  },
  {
   "cell_type": "code",
   "execution_count": null,
   "metadata": {
    "colab": {
     "base_uri": "https://localhost:8080/"
    },
    "id": "96EhG7cuIfzv",
    "outputId": "41ac0831-00a7-4c77-aa88-4c4fe92039fe",
    "scrolled": true
   },
   "outputs": [],
   "source": [
    "\n",
    "for epoch in range(NO_EPOCHS):\n",
    "    mean_epoch_loss = []\n",
    "    mean_epoch_loss_val = []\n",
    "\n",
    "    for batch in trainloader:\n",
    "        t = torch.randint(0, diffusion_model.timesteps, (BATCH_SIZE,)).long().to(device)\n",
    "        batch = batch.to(device)\n",
    "        batch_noisy, noise = diffusion_model.Forward_Diffusion(batch, t, device)\n",
    "        predicted_noise = unet(batch_noisy, t)\n",
    "\n",
    "        optimizer.zero_grad()\n",
    "        loss = torch.nn.functional.mse_loss(noise, predicted_noise)\n",
    "        mean_epoch_loss.append(loss.item())\n",
    "        loss.backward()\n",
    "        optimizer.step()\n",
    "    \n",
    "    for batch in verifyloader:\n",
    "        t = torch.randint(0, diffusion_model.timesteps, (BATCH_SIZE_verify,)).long().to(device)\n",
    "        batch = batch.to(device)\n",
    "\n",
    "        batch_noisy, noise = diffusion_model.Forward_Diffusion(batch, t, device) \n",
    "        predicted_noise = unet(batch_noisy, t)\n",
    "\n",
    "        loss = torch.nn.functional.mse_loss(noise, predicted_noise) \n",
    "        mean_epoch_loss_val.append(loss.item())\n",
    "    \n",
    "    loss_array_mean.append(np.mean(mean_epoch_loss))\n",
    "    loss_array_min.append(np.min(mean_epoch_loss))\n",
    "    loss_array_max.append(np.max(mean_epoch_loss))\n",
    "    \n",
    "    loss_val_array_mean.append(np.mean(mean_epoch_loss_val))\n",
    "    loss_val_array_min.append(np.min(mean_epoch_loss_val))\n",
    "    loss_val_array_max.append(np.max(mean_epoch_loss_val))\n",
    "    print(epoch)\n",
    "    if epoch > 70 and epoch % PRINT_FREQUENCY == 0:\n",
    "        print('---')\n",
    "        print(f\"Epoch: {epoch} | Train Loss {np.mean(mean_epoch_loss)} | Val Loss {np.mean(mean_epoch_loss_val)}\")\n",
    "        if VERBOSE:\n",
    "            with torch.no_grad():\n",
    "                plot_noise_prediction(noise[0], predicted_noise[0])\n",
    "                plot_noise_distribution(noise, predicted_noise)\n",
    "        \n",
    "        save_dir = f\"size{BATCH_SIZE}/epoch{NO_EPOCHS}\"\n",
    "        # Ensure the directory exists, or create it if it doesn't\n",
    "        os.makedirs(save_dir, exist_ok=True)\n",
    "        torch.save(unet.state_dict(), os.path.join(save_dir, f\"step_epoch{epoch}\"))"
   ]
  },
  {
   "cell_type": "code",
   "execution_count": null,
   "metadata": {},
   "outputs": [],
   "source": [
    "import csv\n",
    "file_name = \"vectors_data.csv\"\n",
    "\n",
    "# Create and open the CSV file in write mode\n",
    "with open(file_name, mode='w', newline='') as file:\n",
    "    writer = csv.writer(file, delimiter=',', quotechar='\"', quoting=csv.QUOTE_MINIMAL)\n",
    "    \n",
    "    # Write the headers (optional, you can omit this if you don't need headers)\n",
    "    headers = ['loss_min', 'loss_mean', 'loss_max', 'verify_min', 'verify_mean', 'verify_max']\n",
    "    writer.writerow(headers)\n",
    "    \n",
    "    # Zip the six vectors together and write each row to the CSV file\n",
    "    for row in zip(loss_array_min, loss_array_mean, loss_array_max, loss_val_array_min, loss_val_array_mean, loss_val_array_max):\n",
    "        writer.writerow(row)\n",
    "\n",
    "print(\"Vectors saved to\", file_name)"
   ]
  },
  {
   "cell_type": "code",
   "execution_count": 77,
   "metadata": {
    "colab": {
     "base_uri": "https://localhost:8080/"
    },
    "id": "X2v0tH5LTOZA",
    "outputId": "91fa5e6b-803d-4d48-f409-366b9dcb12ee"
   },
   "outputs": [
    {
     "data": {
      "text/plain": [
       "<All keys matched successfully>"
      ]
     },
     "execution_count": 77,
     "metadata": {},
     "output_type": "execute_result"
    }
   ],
   "source": [
    "\n",
    "unet = UNet(labels=False)\n",
    "unet.load_state_dict(torch.load((\"/Users/luismartinezrojas/Documents/denoising/size200/x10_epoch100/step_epoch99\"))) #/content/drive/MyDrive/Epochs_training/epochsBS1000/"
   ]
  },
  {
   "cell_type": "code",
   "execution_count": 78,
   "metadata": {
    "id": "Tfb67IdnZQZp"
   },
   "outputs": [
    {
     "data": {
      "image/png": "[encoded data removed]",
      "text/plain": [
       "<Figure size 1500x500 with 6 Axes>"
      ]
     },
     "metadata": {},
     "output_type": "display_data"
    }
   ],
   "source": [
    "            \n",
    "NO_images_to_show = 6  # You can change this to your desired number\n",
    "f, ax = plt.subplots(1, NO_images_to_show, figsize=(15, 5))  # Adjust figsize as needed\n",
    "idx=0\n",
    "print_ima=[200,60,20,10,5,0]\n",
    "with torch.no_grad():\n",
    "    img = torch.randn((1, 1) + IMG_SHAPE).to(device)\n",
    "    for i in reversed(range(diffusion_model.timesteps)):\n",
    "        t = torch.full((1,), i, dtype=torch.long, device=device)\n",
    "        img = diffusion_model.backward(img, t, unet.eval().to(device))\n",
    "        if i in print_ima:\n",
    "\n",
    "            ax[idx].imshow(reverse_transform(img[0]),cmap=\"gray\")\n",
    "            ax[idx].set_title(f\"T: {i}\", fontsize=10)\n",
    "            idx= idx+1\n",
    "\n",
    "\n",
    "# Set a single title for all subplots\n",
    "f.suptitle(r\"Reverse process ($x^{10}$)\", fontsize=20)  # Adjust fontsize as needed\n",
    "\n",
    "plt.tight_layout()  # Automatically adjusts the spacing\n",
    "\n",
    "plt.savefig(\"noisy_triangle_x10.jpeg\")\n",
    "plt.show()"
   ]
  },
  {
   "cell_type": "code",
   "execution_count": 79,
   "metadata": {
    "colab": {
     "base_uri": "https://localhost:8080/",
     "height": 211
    },
    "id": "YJkb-M31TZx6",
    "outputId": "e5947ac4-4e54-43eb-d41a-8c9efeb6ac3c"
   },
   "outputs": [
    {
     "data": {
      "image/png": "[encoded data removed]",
      "text/plain": [
       "<Figure size 1500x500 with 5 Axes>"
      ]
     },
     "metadata": {},
     "output_type": "display_data"
    }
   ],
   "source": [
    "NUM_DISPLAY_IMAGES=5\n",
    "f, ax = plt.subplots(1, NUM_DISPLAY_IMAGES, figsize = (15,5))\n",
    "with torch.no_grad():\n",
    "  img = torch.randn((NUM_DISPLAY_IMAGES, 1) + IMG_SHAPE).to(device)\n",
    "  for i in reversed(range(diffusion_model.timesteps)):\n",
    "    t = torch.full((1,),i, dtype=torch.long, device=device)\n",
    "    img= diffusion_model.backward(x=img, t=t, model=unet.eval().to(device))\n",
    "  for idx, img in enumerate(img):\n",
    "    ax[idx].imshow(reverse_transform(img),cmap=\"gray\")\n",
    "    ax[idx].set_title(f\"\", fontsize = 10)\n",
    "\n",
    "f.suptitle(r\"Different starting ($x^{10}$)\", fontsize=20)  # Adjust fontsize as needed\n",
    "\n",
    "plt.tight_layout()  # Automatically adjusts the spacing\n",
    "plt.savefig(\"reconstruccion_x10.png\")"
   ]
  },
  {
   "cell_type": "code",
   "execution_count": null,
   "metadata": {},
   "outputs": [],
   "source": []
  },
  {
   "cell_type": "code",
   "execution_count": null,
   "metadata": {},
   "outputs": [],
   "source": []
  },
  {
   "cell_type": "code",
   "execution_count": null,
   "metadata": {
    "colab": {
     "base_uri": "https://localhost:8080/",
     "height": 34
    },
    "id": "Ptsf1KuKFMim",
    "outputId": "6fe5c83c-3a0a-47ce-94bd-bb5d75339031"
   },
   "outputs": [],
   "source": [
    "start_bet=1e-4\n",
    "end_bet=0.02\n",
    "timesteps=300\n",
    "\n",
    "pow10=power_linspace(start_bet, end_bet, timesteps,10.0) \n",
    "pow2=power_linspace(start_bet, end_bet, timesteps,2.0) \n",
    "pow15=power_linspace(start_bet, end_bet, timesteps,1.5) \n",
    "\n",
    "sen=sinusoidal_linspace(start_bet, end_bet, timesteps) \n",
    "lineal=torch.linspace(start_bet, end_bet, timesteps)"
   ]
  },
  {
   "cell_type": "code",
   "execution_count": null,
   "metadata": {
    "id": "JvHrhQXaFP2B"
   },
   "outputs": [],
   "source": [
    "plt.plot(lineal, label=\"Linear\")\n",
    "plt.plot(sen, label=\"Sine\")\n",
    "plt.plot(pow15, label=\"Power 1.5\")\n",
    "plt.plot(pow2, label=\"Power 2\")\n",
    "plt.plot(pow10, label=\"Power 10\")\n",
    "\n",
    "plt.ylabel(\"Noise\")\n",
    "plt.xlabel(\"Time step\")\n",
    "\n",
    "# Adding a legend\n",
    "plt.legend()\n",
    "\n",
    "# Show the plot\n",
    "plt.savefig(\"noise_aded.jpeg\")"
   ]
  },
  {
   "cell_type": "code",
   "execution_count": null,
   "metadata": {
    "id": "FavvIQtaFX7w"
   },
   "outputs": [],
   "source": []
  },
  {
   "cell_type": "code",
   "execution_count": null,
   "metadata": {
    "id": "6NJlKzPtFZrx"
   },
   "outputs": [],
   "source": [
    "\n"
   ]
  },
  {
   "cell_type": "code",
   "execution_count": null,
   "metadata": {
    "id": "AcPyJEy_FcJh"
   },
   "outputs": [],
   "source": []
  },
  {
   "cell_type": "code",
   "execution_count": null,
   "metadata": {
    "id": "i4Ob5RTMGEbr"
   },
   "outputs": [],
   "source": []
  },
  {
   "cell_type": "code",
   "execution_count": null,
   "metadata": {
    "id": "aNARZ5UQZsdA"
   },
   "outputs": [],
   "source": []
  },
  {
   "cell_type": "code",
   "execution_count": null,
   "metadata": {
    "id": "2kJFDnd8Z2Es"
   },
   "outputs": [],
   "source": []
  }
 ],
 "metadata": {
  "accelerator": "GPU",
  "colab": {
   "gpuType": "V100",
   "provenance": []
  },
  "kernelspec": {
   "display_name": "Python 3.9 (pytorch)",
   "language": "python",
   "name": "pytorch"
  },
  "language_info": {
   "codemirror_mode": {
    "name": "ipython",
    "version": 3
   },
   "file_extension": ".py",
   "mimetype": "text/x-python",
   "name": "python",
   "nbconvert_exporter": "python",
   "pygments_lexer": "ipython3",
   "version": "3.9.18"
  }
 },
 "nbformat": 4,
 "nbformat_minor": 4
}
